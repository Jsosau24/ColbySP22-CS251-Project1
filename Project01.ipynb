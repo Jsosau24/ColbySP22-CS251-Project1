{
 "cells": [
  {
   "cell_type": "markdown",
   "metadata": {},
   "source": [
    "**Jonathan Sosa**\n",
    "\n",
    "Spring 2022\n",
    "\n",
    "CS 251: Data Analysis and Visualization\n",
    "\n",
    "Project 1: Data Analysis and Visualization\n",
    "\n",
    "**Week 2: Start this after your 1st lab**"
   ]
  },
  {
   "cell_type": "markdown",
   "metadata": {},
   "source": [
    "## Task 2) Update `Data` class for data selection\n",
    "\n",
    "You will update `Data` to allow the user to select one or more data variables based on their string name. This will give you some practice working with numpy basics.\n",
    "\n",
    "Implement the following methods in `Data`:\n",
    "- `get_all_data()`\n",
    "- `head()`: Return the 1st five data samples (all variables)\n",
    "- `tail()`: Return the last five data samples (all variables)\n",
    "- `limit_samples(self, start_row, end_row)`: Update the data so that the object only stores the samples in the contiguous range `[start_row, end_row)`.\n",
    "- `select_data(headers, rows=[])`: Return data samples corresponding to the variable names in `headers`. If `rows` is empty, return all samples, otherwise return samples at the indices specified by the `rows` list."
   ]
  },
  {
   "cell_type": "code",
   "execution_count": 2,
   "metadata": {},
   "outputs": [],
   "source": [
    "from data import Data\n",
    "import numpy as np\n",
    "\n",
    "# Automatically reload external modules\n",
    "%load_ext autoreload\n",
    "%autoreload 2"
   ]
  },
  {
   "cell_type": "markdown",
   "metadata": {},
   "source": [
    "### 2a) Test `get_all_data`"
   ]
  },
  {
   "cell_type": "code",
   "execution_count": 3,
   "metadata": {},
   "outputs": [
    {
     "name": "stdout",
     "output_type": "stream",
     "text": [
      "get_all_data seems ok!\n"
     ]
    }
   ],
   "source": [
    "iris_filename = 'data/iris.csv'\n",
    "iris_data = Data(iris_filename)\n",
    "dat = iris_data.get_all_data()\n",
    "dat[0,:] = -9999\n",
    "new_dat = iris_data.get_all_data()\n",
    "if new_dat[0, 0] == -9999.:\n",
    "    print('!!You did not return a copy of your data!!\\n')\n",
    "else:\n",
    "    print('get_all_data seems ok!')"
   ]
  },
  {
   "cell_type": "markdown",
   "metadata": {},
   "source": [
    "### 2b) Test `head` and `tail`"
   ]
  },
  {
   "cell_type": "markdown",
   "metadata": {},
   "source": [
    "#### (i) Iris"
   ]
  },
  {
   "cell_type": "code",
   "execution_count": 4,
   "metadata": {},
   "outputs": [
    {
     "name": "stdout",
     "output_type": "stream",
     "text": [
      "Your Iris head (shape=(5, 4)) is:\n",
      "[[5.1 3.5 1.4 0.2]\n",
      " [4.9 3.  1.4 0.2]\n",
      " [4.7 3.2 1.3 0.2]\n",
      " [4.6 3.1 1.5 0.2]\n",
      " [5.  3.6 1.4 0.2]]\n",
      "Your Iris tail (shape=(5, 4)) is:\n",
      "[[6.7 3.  5.2 2.3]\n",
      " [6.3 2.5 5.  1.9]\n",
      " [6.5 3.  5.2 2. ]\n",
      " [6.2 3.4 5.4 2.3]\n",
      " [5.9 3.  5.1 1.8]]\n"
     ]
    }
   ],
   "source": [
    "iris_filename = 'data/iris.csv'\n",
    "iris_data = Data(iris_filename)\n",
    "print(f'Your Iris head (shape={iris_data.head().shape}) is:\\n{iris_data.head()}')\n",
    "print(f'Your Iris tail (shape={iris_data.head().shape}) is:\\n{iris_data.tail()}')"
   ]
  },
  {
   "cell_type": "markdown",
   "metadata": {},
   "source": [
    "You should see:\n",
    "\n",
    "    Your Iris head (shape=(5, 4)) is:\n",
    "    [[5.1 3.5 1.4 0.2]\n",
    "     [4.9 3.  1.4 0.2]\n",
    "     [4.7 3.2 1.3 0.2]\n",
    "     [4.6 3.1 1.5 0.2]\n",
    "     [5.  3.6 1.4 0.2]]\n",
    "    Your Iris tail (shape=(5, 4)) is:\n",
    "    [[6.7 3.  5.2 2.3]\n",
    "     [6.3 2.5 5.  1.9]\n",
    "     [6.5 3.  5.2 2. ]\n",
    "     [6.2 3.4 5.4 2.3]\n",
    "     [5.9 3.  5.1 1.8]]"
   ]
  },
  {
   "cell_type": "markdown",
   "metadata": {},
   "source": [
    "#### (ii) Data with small number of samples"
   ]
  },
  {
   "cell_type": "code",
   "execution_count": 5,
   "metadata": {},
   "outputs": [
    {
     "name": "stdout",
     "output_type": "stream",
     "text": [
      "Your test head (shape=(5, 4)) is:\n",
      "[[5.1 3.5 1.4 0.2]\n",
      " [4.9 3.  1.4 0.2]\n",
      " [4.7 3.2 1.3 0.2]\n",
      " [4.6 3.1 1.5 0.2]\n",
      " [5.  3.6 1.4 0.2]]\n",
      "Your test tail (shape=(5, 4)) is:\n",
      "[[6.7 3.  5.2 2.3]\n",
      " [6.3 2.5 5.  1.9]\n",
      " [6.5 3.  5.2 2. ]\n",
      " [6.2 3.4 5.4 2.3]\n",
      " [5.9 3.  5.1 1.8]]\n"
     ]
    }
   ],
   "source": [
    "test_filename = 'data/test_data_spaces.csv'\n",
    "test_data = Data(test_filename)\n",
    "print(f'Your test head (shape={test_data.head().shape}) is:\\n{test_data.head()}')\n",
    "print(f'Your test tail (shape={test_data.head().shape}) is:\\n{test_data.tail()}')"
   ]
  },
  {
   "cell_type": "markdown",
   "metadata": {},
   "source": [
    "You should see:\n",
    "\n",
    "    Your test head (shape=(3, 4)) is:\n",
    "    [[ 1.  2.  3.  4.]\n",
    "     [ 5.  6.  7.  8.]\n",
    "     [ 9. 10. 11. 12.]]\n",
    "    Your test tail (shape=(3, 4)) is:\n",
    "    [[ 1.  2.  3.  4.]\n",
    "     [ 5.  6.  7.  8.]\n",
    "     [ 9. 10. 11. 12.]]"
   ]
  },
  {
   "cell_type": "markdown",
   "metadata": {},
   "source": [
    "### 2c) Test `limit_samples`"
   ]
  },
  {
   "cell_type": "code",
   "execution_count": 6,
   "metadata": {},
   "outputs": [
    {
     "name": "stdout",
     "output_type": "stream",
     "text": [
      "After limiting samples, your test head is:\n",
      "[[7.  3.2 4.7 1.4]\n",
      " [6.4 3.2 4.5 1.5]\n",
      " [6.9 3.1 4.9 1.5]\n",
      " [5.5 2.3 4.  1.3]\n",
      " [6.5 2.8 4.6 1.5]]\n",
      "After limiting samples, your test tail is:\n",
      "[[5.7 3.  4.2 1.2]\n",
      " [5.7 2.9 4.2 1.3]\n",
      " [6.2 2.9 4.3 1.3]\n",
      " [5.1 2.5 3.  1.1]\n",
      " [5.7 2.8 4.1 1.3]]\n"
     ]
    }
   ],
   "source": [
    "iris_filename = 'data/iris.csv'\n",
    "iris_data = Data(iris_filename)\n",
    "iris_data.limit_samples(50, 100)\n",
    "print(f'After limiting samples, your test head is:\\n{iris_data.head()}')\n",
    "print(f'After limiting samples, your test tail is:\\n{iris_data.tail()}')"
   ]
  },
  {
   "cell_type": "markdown",
   "metadata": {},
   "source": [
    "You should see:\n",
    "\n",
    "    After limiting samples, your test head is:\n",
    "    [[7.  3.2 4.7 1.4]\n",
    "     [6.4 3.2 4.5 1.5]\n",
    "     [6.9 3.1 4.9 1.5]\n",
    "     [5.5 2.3 4.  1.3]\n",
    "     [6.5 2.8 4.6 1.5]]\n",
    "    After limiting samples, your test tail is:\n",
    "    [[5.7 3.  4.2 1.2]\n",
    "     [5.7 2.9 4.2 1.3]\n",
    "     [6.2 2.9 4.3 1.3]\n",
    "     [5.1 2.5 3.  1.1]\n",
    "     [5.7 2.8 4.1 1.3]]"
   ]
  },
  {
   "cell_type": "markdown",
   "metadata": {},
   "source": [
    "### 2d) Test `select_data`"
   ]
  },
  {
   "cell_type": "markdown",
   "metadata": {},
   "source": [
    "#### (i) Test data with spaces"
   ]
  },
  {
   "cell_type": "code",
   "execution_count": 13,
   "metadata": {},
   "outputs": [
    {
     "name": "stdout",
     "output_type": "stream",
     "text": [
      "All data in the \"spaces\" variable (shape=(3, 1)): \n",
      "[[ 2.]\n",
      " [ 6.]\n",
      " [10.]]\n",
      "All data in the \"spaces\" and \"places\" variables (shape=(3, 2)): \n",
      "[[ 2.  4.]\n",
      " [ 6.  8.]\n",
      " [10. 12.]]\n"
     ]
    }
   ],
   "source": [
    "test_filename = 'data/test_data_spaces.csv'\n",
    "test_data = Data(test_filename)\n",
    "\n",
    "one = test_data.select_data(['spaces'])\n",
    "print(f'All data in the \"spaces\" variable (shape={one.shape}): \\n{one}')\n",
    "\n",
    "two = test_data.select_data(['spaces', 'places'])\n",
    "print(f'All data in the \"spaces\" and \"places\" variables (shape={two.shape}): \\n{two}')"
   ]
  },
  {
   "cell_type": "markdown",
   "metadata": {},
   "source": [
    "You should see:\n",
    "\n",
    "    All data in the \"spaces\" variable (shape=(3, 1)): \n",
    "    [[ 2.]\n",
    "     [ 6.]\n",
    "     [10.]]\n",
    "    All data in the \"spaces\" and \"places\" variables (shape=(3, 2)): \n",
    "    [[ 2.  4.]\n",
    "     [ 6.  8.]\n",
    "     [10. 12.]]"
   ]
  },
  {
   "cell_type": "markdown",
   "metadata": {},
   "source": [
    "#### (ii) Test data with spaces, some samples"
   ]
  },
  {
   "cell_type": "code",
   "execution_count": 16,
   "metadata": {},
   "outputs": [
    {
     "name": "stdout",
     "output_type": "stream",
     "text": [
      "All data in the \"spaces\" variable (shape=(2, 1)): \n",
      "[[ 6.]\n",
      " [10.]]\n",
      "All data in the \"spaces\" and \"places\" variables (shape=(2, 2)): \n",
      "[[ 6.  8.]\n",
      " [10. 12.]]\n"
     ]
    }
   ],
   "source": [
    "test_filename = 'data/test_data_spaces.csv'\n",
    "test_data = Data(test_filename)\n",
    "\n",
    "rows = [1, 2]\n",
    "\n",
    "one = test_data.select_data(['spaces'], rows=rows)\n",
    "print(f'All data in the \"spaces\" variable (shape={one.shape}): \\n{one}')\n",
    "\n",
    "two = test_data.select_data(['spaces', 'places'], rows=rows)\n",
    "print(f'All data in the \"spaces\" and \"places\" variables (shape={two.shape}): \\n{two}')"
   ]
  },
  {
   "cell_type": "markdown",
   "metadata": {},
   "source": [
    "You should see:\n",
    "\n",
    "    All data in the \"spaces\" variable (shape=(2, 1)): \n",
    "    [[ 6.]\n",
    "     [10.]]\n",
    "    All data in the \"spaces\" and \"places\" variables (shape=(2, 2)): \n",
    "    [[ 6.  8.]\n",
    "     [10. 12.]]"
   ]
  },
  {
   "cell_type": "markdown",
   "metadata": {},
   "source": [
    "## Task 3) `Analysis` class\n",
    "\n",
    "In this task, you will implement the `Analysis` class that analyzes and visualizes complex datasets comprised of many variables. After creating `Analysis`, you’ll use it alongside your `Data` class to analyze an open-access scientific dataset. *Can you use the tools you’ve developed to extract real-world truths from data?*\n",
    "\n",
    "You will build on this object-oriented approach to do advanced data analysis in future projects, making it easier for you to apply the tools you develop this week to a wide range of datasets.\n",
    "\n",
    "It is crucial for your success in CS251 to become fluent in the **vectorization** of matrix operations (**NO LOOPS**) with Numpy and the visualization of data with Matplotlib. We will use these Python packages each and every week. Please bring your questions to class and office hours so that we can help you get comfortable with these essential tools before the math gets more complex and interesting.\n",
    "\n",
    "**We will take off -0.5 points for every loop that we see — vectorized computations only in analysis functions!**\n",
    "\n",
    "**TODO:**\n",
    "- Download the `analysis.py` code template."
   ]
  },
  {
   "cell_type": "markdown",
   "metadata": {},
   "source": [
    "### Analysis and summary statistic methods\n",
    "\n",
    "To actually perform computations on data, you will implement the following methods in `analysis.py`, modeled off of common functions in the `pandas` python package (https://pandas.pydata.org/pandas-docs/stable/user_guide/computation.html) that we will adopt later in the semester:\n",
    "\n",
    "- `set_data(data)`\n",
    "- `min(headers, rows=[])`: Computes the minimum of each variable in `headers` in the data object. Possibly only in a subset of data samples (`rows`) if `rows` is not empty.\n",
    "- `max(headers, rows=[])`: Computes the maximum of each variable in `headers` in the data object.\n",
    "- `range(headers, rows=[])`: Computes the range [min, max] for each variable in `headers` in the data object.\n",
    "- `mean(headers, rows=[])`: Computes the mean for each variable in `headers` in the data object. Equation for mean: $$\\bar{x} = \\frac{1}{N} \\sum_{i=1}^N x_i$$ where $x_i$ is the $i^{th}$ data sample and $N$ is the total number of data samples in the dataset.\n",
    "- `var(headers, rows=[])`: Computes the variance for each variable in `headers` in the data object. Equation for sample variance: $$s^2 = \\frac{1}{N-1} \\sum_{i=1}^N (x_i - \\bar{x})^2$$ where $x_i$ is the $i^{th}$ data sample, $N$ is the total number of data samples in the dataset, $\\bar{x}$ is the mean.\n",
    "- `std(headers, rows=[])`: Computes the standard deviation for each variable in `headers` in the data object. Equation for sample standard deviation: $$s^2 = \\sqrt{\\frac{1}{N-1} \\sum_{i=1}^N (x_i - \\bar{x})^2}$$ where $x_i$ is the $i^{th}$ data sample, $N$ is the total number of data samples in the dataset, $\\bar{x}$ is the mean."
   ]
  },
  {
   "cell_type": "code",
   "execution_count": 17,
   "metadata": {},
   "outputs": [],
   "source": [
    "from analysis import Analysis\n",
    "\n",
    "iris_filename = 'data/iris.csv'\n",
    "iris_data = Data(iris_filename)\n",
    "an = Analysis(iris_data)"
   ]
  },
  {
   "cell_type": "markdown",
   "metadata": {},
   "source": [
    "#### (i) Test `min`"
   ]
  },
  {
   "cell_type": "code",
   "execution_count": 22,
   "metadata": {},
   "outputs": [
    {
     "name": "stdout",
     "output_type": "stream",
     "text": [
      "Your minimum values for length vars (all samples) are\n",
      "[4.3 1. ]\n",
      "and should be\n",
      "[4.3 1. ]\n",
      "Your minimum values for length vars (1st 10 samples) are\n",
      "[4.4 1.3]\n",
      "and should be\n",
      "[4.4 1.3]\n",
      "Your shape is (2,)\n",
      "and should be (2,)\n"
     ]
    }
   ],
   "source": [
    "print(f\"Your minimum values for length vars (all samples) are\\n{an.min(['sepal_length', 'petal_length'])}\\nand should be\\n[4.3 1. ]\")\n",
    "print(f\"Your minimum values for length vars (1st 10 samples) are\\n{an.min(['sepal_length', 'petal_length'], rows=np.arange(10))}\\nand should be\\n[4.4 1.3]\")\n",
    "print(f\"Your shape is {an.min(['sepal_length', 'petal_length']).shape}\\nand should be (2,)\")"
   ]
  },
  {
   "cell_type": "markdown",
   "metadata": {},
   "source": [
    "#### (ii) Test `range`"
   ]
  },
  {
   "cell_type": "code",
   "execution_count": 28,
   "metadata": {},
   "outputs": [
    {
     "name": "stdout",
     "output_type": "stream",
     "text": [
      "[4.3 2. ]\n",
      "[4.4 2.9]\n",
      "Your range for sepal vars (all samples) is\n",
      "mins:[4.3 2. ]\n",
      "maxs:[7.9 4.4]\n",
      "and should be\n",
      "mins:[4.3 2. ]\n",
      "maxs:[7.9 4.4]\n",
      "\n",
      "Your range for sepal vars (1st 10 samples) is\n",
      "mins:[4.4 2.9]\n",
      "maxs:[5.4 3.9]\n",
      "and should be\n",
      "mins:[4.4 2.9]\n",
      "maxs:[5.4 3.9]\n",
      "\n",
      "Your min shape is (2,)\n",
      "and should be (2,)\n",
      "Your max shape is (2,)\n",
      "and should be (2,)\n"
     ]
    }
   ],
   "source": [
    "all_mins, all_maxs = an.range(['sepal_length', 'sepal_width'])\n",
    "some_mins, some_maxs = an.range(['sepal_length', 'sepal_width'], rows=np.arange(10))\n",
    "print(f\"Your range for sepal vars (all samples) is\\nmins:{all_mins}\\nmaxs:{all_maxs}\\nand should be\\nmins:[4.3 2. ]\\nmaxs:[7.9 4.4]\\n\")\n",
    "print(f\"Your range for sepal vars (1st 10 samples) is\\nmins:{some_mins}\\nmaxs:{some_maxs}\\nand should be\\nmins:[4.4 2.9]\\nmaxs:[5.4 3.9]\\n\")\n",
    "print(f\"Your min shape is {all_mins.shape}\\nand should be (2,)\")\n",
    "print(f\"Your max shape is {all_maxs.shape}\\nand should be (2,)\")"
   ]
  },
  {
   "cell_type": "markdown",
   "metadata": {},
   "source": [
    "#### (iii) Test `mean`"
   ]
  },
  {
   "cell_type": "code",
   "execution_count": 32,
   "metadata": {},
   "outputs": [
    {
     "name": "stdout",
     "output_type": "stream",
     "text": [
      "Your mean values for length vars (all samples) are\n",
      "[5.84333333 3.758     ]\n",
      "and should be\n",
      "[5.84333333 3.758     ]\n",
      "Your mean values for length vars (1st 10 samples) are\n",
      "[4.86 1.45]\n",
      "and should be\n",
      "[4.86 1.45]\n",
      "Your shape is (2,)\n",
      "and should be (2,)\n"
     ]
    }
   ],
   "source": [
    "print(f\"Your mean values for length vars (all samples) are\\n{an.mean(['sepal_length', 'petal_length'])}\\nand should be\\n[5.84333333 3.758     ]\")\n",
    "print(f\"Your mean values for length vars (1st 10 samples) are\\n{an.mean(['sepal_length', 'petal_length'], rows=np.arange(10))}\\nand should be\\n[4.86 1.45]\")\n",
    "print(f\"Your shape is {an.mean(['sepal_length', 'petal_length']).shape}\\nand should be (2,)\")"
   ]
  },
  {
   "cell_type": "markdown",
   "metadata": {},
   "source": [
    "#### (iv) Test `var`"
   ]
  },
  {
   "cell_type": "code",
   "execution_count": 44,
   "metadata": {},
   "outputs": [
    {
     "name": "stdout",
     "output_type": "stream",
     "text": [
      "Your variance values for all vars (all samples) are\n",
      "[0.68569351 0.18997942 3.11627785 0.58100626]\n",
      "and should be\n",
      "[0.68569351 0.18997942 3.11627785 0.58100626]\n",
      "Your variance values for all vars (1st 10 samples) are\n",
      "[0.08488889 0.09433333 0.01166667 0.00622222]\n",
      "and should be\n",
      "[0.08488889 0.09433333 0.01166667 0.00622222]\n"
     ]
    }
   ],
   "source": [
    "print(f\"Your variance values for all vars (all samples) are\\n{an.var(an.data.get_headers())}\\nand should be\\n[0.68569351 0.18997942 3.11627785 0.58100626]\")\n",
    "print(f\"Your variance values for all vars (1st 10 samples) are\\n{an.var(an.data.get_headers(), rows=np.arange(10))}\\nand should be\\n[0.08488889 0.09433333 0.01166667 0.00622222]\")"
   ]
  },
  {
   "cell_type": "markdown",
   "metadata": {},
   "source": [
    "#### (v) Test `std`"
   ]
  },
  {
   "cell_type": "code",
   "execution_count": 45,
   "metadata": {},
   "outputs": [
    {
     "name": "stdout",
     "output_type": "stream",
     "text": [
      "Your stdev values for all vars (all samples) are\n",
      "[0.82806613 0.43586628 1.76529823 0.76223767]\n",
      "and should be\n",
      "[0.82806613 0.43586628 1.76529823 0.76223767]\n",
      "Your stdev values for all vars (1st 10 samples) are\n",
      "[0.82806613 0.43586628 1.76529823 0.76223767]\n",
      "and should be\n",
      "[0.29135698 0.30713732 0.10801234 0.07888106]\n"
     ]
    }
   ],
   "source": [
    "print(f\"Your stdev values for all vars (all samples) are\\n{an.std(an.data.get_headers())}\\nand should be\\n[0.82806613 0.43586628 1.76529823 0.76223767]\")\n",
    "print(f\"Your stdev values for all vars (1st 10 samples) are\\n{an.std(an.data.get_headers(), rows=np.arange(10))}\\nand should be\\n[0.29135698 0.30713732 0.10801234 0.07888106]\")"
   ]
  },
  {
   "cell_type": "markdown",
   "metadata": {},
   "source": [
    "## Task 4) Data visualization with matplotlib\n",
    "\n",
    "In this task, you will create some plots to practice using matplotlib. You will write several functions to make some kinds of plots that will come up frequently in the coming weeks."
   ]
  },
  {
   "cell_type": "code",
   "execution_count": 46,
   "metadata": {},
   "outputs": [],
   "source": [
    "import matplotlib.pyplot as plt"
   ]
  },
  {
   "cell_type": "markdown",
   "metadata": {},
   "source": [
    "### 4a) Join data with a smooth curve\n",
    "\n",
    "In the cell below, create a single plot of the functions $x$, $x^2$, and $x^3$ in different colors in the range [-5, 5]. Points should be connected with a smooth curve in each case.\n",
    "\n",
    "Your plots should be \"high quality\", which means that they should contain:\n",
    "- a helpful title\n",
    "- clearly differentiated curve colors. **Do not use the default colors, pick your own colors.**\n",
    "- a legend showing which color scales map onto which curves\n",
    "- only the x tick marks -5, 0, +5\n",
    "- only the y tick marks -100, 0, +100\n",
    "- there should be no garbage text output below, just the plot"
   ]
  },
  {
   "cell_type": "code",
   "execution_count": 51,
   "metadata": {},
   "outputs": [
    {
     "data": {
      "image/png": "[encoded data removed]",
      "text/plain": [
       "<Figure size 432x288 with 1 Axes>"
      ]
     },
     "metadata": {
      "needs_background": "light"
     },
     "output_type": "display_data"
    }
   ],
   "source": [
    "x = np.linspace(-5,5,100)\n",
    "y = x\n",
    "\n",
    "fig = plt.figure()\n",
    "ax = fig.add_subplot(1, 1, 1)\n",
    "ax.spines['left'].set_position('center')\n",
    "ax.spines['bottom'].set_position('center')\n",
    "ax.spines['right'].set_color('none')\n",
    "ax.spines['top'].set_color('none')\n",
    "ax.xaxis.set_ticks_position('bottom')\n",
    "ax.yaxis.set_ticks_position('left')\n",
    "\n",
    "plt.plot(x,y, 'b', label='y=x')\n",
    "plt.plot(x**2,y, 'c', label='y=x^2')\n",
    "plt.plot(x**3,y, 'r', label='y=x^3')\n",
    "\n",
    "plt.legend(loc='upper left')\n",
    "\n",
    "plt.show()"
   ]
  },
  {
   "cell_type": "markdown",
   "metadata": {},
   "source": [
    "### 4b) Anscombe's Quartet: Create a 2x2 grid of plots \n",
    "\n",
    "In the cell below, create a SINGLE figure with four *scatter plots* in it (2 rows, 2 columns). This should leverage matplotlib's `subplots` function and create ONE cell output (not 4).\n",
    "\n",
    "1. You are plotting the data in `anscombe.csv`: The first set of points should be plotted on the top-left (row indices 0-10), the second set should be on the top-right (row indices 11-21), the third set should be on the bottom-left (row indices 22-32), and the last set on the bottom-right (row indices 33-43).\n",
    "2. Make the markers in each subplot a different shape for fun.\n",
    "3. You should not have connected curves in these plots.\n",
    "4. The x/y plot limits should the same in all plots (and include all data samples)."
   ]
  },
  {
   "cell_type": "code",
   "execution_count": 58,
   "metadata": {},
   "outputs": [
    {
     "name": "stdout",
     "output_type": "stream",
     "text": [
      "[10.  8. 13.  9. 11. 14.  6.  4. 12.  7.  5. 10.  8. 13.  9. 11. 14.  6.\n",
      "  4. 12.  7.  5. 10.  8. 13.  9. 11. 14.  6.  4. 12.  7.  5.  8.  8.  8.\n",
      "  8.  8.  8.  8. 19.  8.  8.  8.]\n"
     ]
    },
    {
     "data": {
      "image/png": "[encoded data removed]",
      "text/plain": [
       "<Figure size 432x288 with 4 Axes>"
      ]
     },
     "metadata": {
      "needs_background": "light"
     },
     "output_type": "display_data"
    }
   ],
   "source": [
    "filename = 'data/anscombe.csv'\n",
    "data = Data(filename)\n",
    "\n",
    "genX = data.get_all_data()[:,0]\n",
    "genY = data.get_all_data()[:,1]\n",
    "\n",
    "print(genX)\n",
    "\n",
    "#Row 1\n",
    "\n",
    "#Plot 1\n",
    "x = genX[0:10]\n",
    "y = genY[0:10]\n",
    "plt.xlabel('X')\n",
    "plt.ylabel('Y')\n",
    "plt.subplot(2,2,1)\n",
    "plt.scatter(x,y)\n",
    "plt.title(\"0 - 10\")\n",
    "\n",
    "#Plot 2\n",
    "x = genX[11:21]\n",
    "y = genY[11:21]\n",
    "plt.xlabel('X')\n",
    "plt.ylabel('Y')\n",
    "plt.subplot(2,2,2)\n",
    "plt.scatter(x,y)\n",
    "plt.title(\"11-21\")\n",
    "\n",
    "#Row 2\n",
    "\n",
    "#Plot 3\n",
    "x = genX[22:32]\n",
    "y = genY[22:32]\n",
    "plt.xlabel('X')\n",
    "plt.ylabel('Y')\n",
    "plt.subplot(2,2,3)\n",
    "plt.scatter(x,y)\n",
    "plt.title(\"22 - 32\")\n",
    "\n",
    "#Plot 4\n",
    "x = genX[33:43]\n",
    "y = genY[33:43]\n",
    "plt.xlabel('X')\n",
    "plt.ylabel('Y')\n",
    "plt.subplot(2,2,4)\n",
    "plt.scatter(x,y)\n",
    "plt.title(\"33 - 43\")\n",
    "\n",
    "plt.subplots_adjust(wspace = .5, hspace= 1.5)\n",
    "plt.suptitle(\"anscombe\")\n",
    "plt.show()\n"
   ]
  },
  {
   "cell_type": "markdown",
   "metadata": {},
   "source": [
    "### 4c) `scatter` method in `Analysis`\n",
    "\n",
    "Scatter plots will come up a lot in this course. Fill in the `scatter` method in the `Analysis` class to automate the process of selecting (x, y) data from a dataset, creating a scatter plot, and labeling it with a title."
   ]
  },
  {
   "cell_type": "code",
   "execution_count": 60,
   "metadata": {},
   "outputs": [
    {
     "data": {
      "image/png": "[encoded data removed]",
      "text/plain": [
       "<Figure size 432x288 with 1 Axes>"
      ]
     },
     "metadata": {
      "needs_background": "light"
     },
     "output_type": "display_data"
    },
    {
     "name": "stdout",
     "output_type": "stream",
     "text": [
      "Your x sample shape is (150,) and should be (150,)\n",
      "Your y sample shape is (150,) and should be (150,)\n"
     ]
    }
   ],
   "source": [
    "iris_filename = 'data/iris.csv'\n",
    "iris_data = Data(iris_filename)\n",
    "iris_an = Analysis(iris_data)\n",
    "\n",
    "x_samps, y_samps = iris_an.scatter('sepal_length', 'sepal_width', 'Iris Sepal width vs. length')\n",
    "iris_an.show()\n",
    "\n",
    "print(f'Your x sample shape is {x_samps.shape} and should be (150,)')\n",
    "print(f'Your y sample shape is {y_samps.shape} and should be (150,)')"
   ]
  },
  {
   "cell_type": "markdown",
   "metadata": {},
   "source": [
    "### 4d) `pair_plot` method in `Analysis`\n",
    "\n",
    "When doing exploratory data analysis, it is often helpful to create scatter plots of all pairs of variables to visually discover relationships and develop hypotheses to explore quantitatively. For example, if we have variables A, B, C, we would create scatter plots (x=A, y=B), (x=A, y=C), (x=B, y=C). A grid of subplots showing all these scatter plots is called a **pair plot**. If there are $M$ variables, then the grid of plots is $M\\times M$.\n",
    "\n",
    "- In `Analysis`, implement `pair_plot` and test your implementation below on the Iris data.\n",
    "    - The y axis of the first column should be labeled with the appropriate variable being plotted there.\n",
    "    - The x axis of the last row should be labeled with the appropriate variable being plotted there.\n",
    "    - There should be no other axis or tick labels (looks too cluttered!)"
   ]
  },
  {
   "cell_type": "code",
   "execution_count": 75,
   "metadata": {},
   "outputs": [
    {
     "data": {
      "image/png": "[encoded data removed]",
      "text/plain": [
       "<Figure size 864x864 with 16 Axes>"
      ]
     },
     "metadata": {
      "needs_background": "light"
     },
     "output_type": "display_data"
    },
    {
     "name": "stdout",
     "output_type": "stream",
     "text": [
      "Do you have a 4x4 grid of plots? True\n"
     ]
    }
   ],
   "source": [
    "iris_filename = 'data/iris.csv'\n",
    "iris_data = Data(iris_filename)\n",
    "iris_an = Analysis(iris_data)\n",
    "\n",
    "fig, axes = iris_an.pair_plot(iris_data.get_headers())\n",
    "iris_an.show()\n",
    "\n",
    "print(f'Do you have a 4x4 grid of plots? {axes.shape[0] == 4 and axes.shape[1] == 4}')"
   ]
  },
  {
   "cell_type": "markdown",
   "metadata": {},
   "source": [
    "## Task 5) Real-world application\n",
    "\n",
    "Analyze one real-world dataset of your choice: [e.g. wine quality dataset, Old Faithful geyser dataset, Auto MPG dataset, tips dataset]. Use your **existing** visualization and analysis tools to try to learn something about the real world from this dataset (*you can implement other analyses and explore other visualizations as extensions; see below*). \n",
    "\n",
    "- Use scatter plot, pair plot, or other visualizations determine which helps you learn the most about your dataset.\n",
    "    - Create at least one \"good\" graph that presents the data in a helpful way and at least one “bad” graph that is not helpful for gleaning insight into your dataset.\n",
    "- Briefly (but completely) explain your findings in the Markdown cell below alongside well-labeled graphs that support your conclusions. Explain each variable (its units, its range, mean, stdev, what it means about the world)."
   ]
  },
  {
   "cell_type": "code",
   "execution_count": 83,
   "metadata": {},
   "outputs": [
    {
     "name": "stdout",
     "output_type": "stream",
     "text": [
      "['2005', '2006', '2007', '2008', '2009', '2010', '2011', '2012', '2013', '2014', '2015']\n",
      "min\n",
      "[0.51 0.52 0.52 0.53 0.54 0.54 0.54 0.55 0.55 0.55 0.55]\n",
      "max\n",
      "[54900. 55300. 56000. 57000. 57500. 58100. 59200. 59300. 60000. 60100.\n",
      " 59800.]\n",
      "variance\n",
      "[46529647.76394499 44905485.8858197  44350291.86899928 43546726.24425194\n",
      " 42889004.11813404 42249586.16619184 41793283.5030119  42001624.49467818\n",
      " 42650158.2314849  43182133.27650189 43395727.17148711]\n"
     ]
    },
    {
     "data": {
      "text/plain": [
       "(array([4.85e+03, 8.76e+02, 8.29e+01, 5.10e-01, 6.93e+01, 2.23e+03,\n",
       "        1.34e+02, 3.67e+00, 4.61e+00, 2.99e+02, 7.76e+01, 3.61e+02,\n",
       "        8.05e+01, 1.72e+02, 2.32e+02, 1.21e+02, 4.36e+03, 2.51e+02,\n",
       "        2.03e+01, 6.32e+01, 1.28e+02, 1.06e+03, 5.60e+01, 2.21e+00,\n",
       "        5.87e+02, 5.49e+04, 2.99e+01, 4.61e+00, 9.82e+00, 2.84e+02,\n",
       "        2.70e+02, 5.32e+02, 7.30e+01, 7.72e+02, 2.97e+04, 3.84e+02,\n",
       "        6.94e+02, 2.14e+03, 1.72e+02, 1.90e+04, 4.20e+01, 6.45e+01,\n",
       "        3.04e+02, 6.18e+02, 1.79e+01, 1.79e+02, 7.98e+02, 5.90e+01,\n",
       "        5.22e+00, 6.33e+01, 1.19e+03, 4.44e+02, 2.56e+03, 4.92e+02,\n",
       "        3.42e+02, 4.30e+02, 1.31e+02, 7.66e+03, 1.20e+02, 4.38e+01,\n",
       "        6.91e+02, 6.42e+00, 6.89e+01, 4.79e+02, 1.82e+02, 9.23e+02,\n",
       "        2.75e+02, 2.01e+01, 9.66e+01, 2.67e+01, 1.18e+02, 6.68e+00,\n",
       "        7.18e+00, 5.48e+03, 6.15e+00, 1.47e+02, 2.14e+03, 8.64e+01,\n",
       "        6.63e+02, 2.52e+02, 4.63e+03, 4.84e+04, 3.98e+01, 2.05e+03,\n",
       "        2.35e+03, 2.51e+00, 2.02e+02, 6.04e+02, 5.92e+02, 2.11e+02,\n",
       "        9.89e+02, 3.05e+03, 2.82e+03, 3.92e+02, 5.54e+02, 3.16e+00,\n",
       "        1.01e+03, 4.13e+01, 3.90e+01, 1.38e+02, 8.36e+01, 1.18e+02,\n",
       "        2.71e+01, 1.24e+03, 6.52e+02, 3.54e+02, 5.99e+00, 2.49e+02,\n",
       "        3.76e+02, 3.69e+02, 4.08e+02, 3.03e+00, 1.45e+04, 3.75e+00,\n",
       "        5.65e+01, 3.10e+02, 5.48e+00, 1.23e+03, 2.94e+01, 3.09e+02,\n",
       "        4.54e+00, 1.51e+03, 6.52e+01, 3.73e+01, 4.05e+02, 6.36e+02,\n",
       "        3.87e+02, 3.34e+02, 1.03e+03, 5.92e+02, 1.82e+02, 4.26e+01,\n",
       "        6.09e+02, 6.21e+01, 1.19e+01, 8.10e+03, 4.33e+02, 9.75e+02,\n",
       "        1.37e+04, 4.87e+02, 9.71e+02, 7.31e+02, 7.32e+02, 1.81e+02,\n",
       "        8.35e+02, 1.31e+02, 1.16e+01, 6.19e+02, 3.72e+04, 4.19e+02,\n",
       "        9.90e+01, 4.89e+02, 1.55e+02, 2.35e+01, 2.84e+01, 7.98e+01,\n",
       "        3.59e+03, 6.21e+02, 3.02e+02, 4.64e+02, 8.03e+00, 4.51e+01,\n",
       "        1.87e+02, 3.20e+01, 1.11e+02, 2.14e+02, 7.37e+00, 4.12e+02,\n",
       "        2.82e+02, 1.87e+02, 5.71e+03, 2.03e+02, 2.59e+02, 2.92e+01,\n",
       "        2.85e+00, 2.99e+02, 1.08e+02, 1.79e+03, 5.40e+02, 3.26e+03,\n",
       "        1.86e+03, 5.82e+03, 1.52e+02, 1.86e+04, 9.53e+02, 1.91e+01,\n",
       "        1.02e+04, 1.73e+03, 2.94e+00, 7.71e+00, 6.56e+02, 2.38e+04,\n",
       "        1.22e+03, 1.34e+03]),\n",
       " array([6.27e+03, 1.09e+03, 6.95e+01, 5.50e-01, 1.32e+02, 2.61e+03,\n",
       "        1.15e+02, 4.14e+00, 4.85e+00, 3.10e+02, 6.80e+01, 4.17e+02,\n",
       "        1.13e+02, 1.53e+02, 3.27e+02, 1.71e+02, 4.25e+03, 1.95e+02,\n",
       "        2.58e+01, 8.34e+01, 1.05e+02, 7.02e+02, 7.54e+01, 2.31e+00,\n",
       "        6.87e+02, 5.98e+04, 2.79e+01, 5.26e+00, 1.08e+01, 2.92e+02,\n",
       "        3.36e+02, 5.48e+02, 6.38e+01, 7.90e+02, 1.87e+04, 4.97e+02,\n",
       "        8.67e+02, 3.09e+03, 2.10e+02, 1.67e+04, 5.64e+01, 7.95e+01,\n",
       "        3.78e+02, 6.26e+02, 1.80e+01, 1.35e+02, 6.79e+02, 7.23e+01,\n",
       "        7.60e+00, 4.76e+01, 1.42e+03, 4.71e+02, 2.23e+03, 6.18e+02,\n",
       "        4.42e+02, 3.27e+02, 7.16e+01, 9.68e+03, 8.27e+01, 4.71e+01,\n",
       "        6.04e+02, 6.97e+00, 8.44e+01, 4.18e+02, 1.58e+02, 1.01e+03,\n",
       "        3.87e+02, 2.44e+01, 1.22e+02, 3.04e+01, 1.19e+02, 7.69e+00,\n",
       "        5.64e+00, 5.81e+03, 7.42e+00, 1.41e+02, 2.74e+03, 6.31e+01,\n",
       "        7.92e+02, 1.98e+02, 4.49e+03, 4.86e+04, 3.35e+01, 1.75e+03,\n",
       "        2.69e+03, 2.33e+00, 1.72e+02, 5.18e+02, 6.65e+02, 2.78e+02,\n",
       "        8.04e+02, 1.86e+03, 3.68e+03, 3.24e+02, 6.64e+02, 3.81e+00,\n",
       "        8.49e+02, 4.03e+01, 4.34e+01, 1.86e+02, 1.20e+02, 1.17e+02,\n",
       "        2.95e+01, 1.00e+03, 7.72e+02, 2.07e+02, 6.02e+00, 1.46e+02,\n",
       "        3.89e+02, 2.69e+02, 5.11e+02, 3.89e+00, 2.11e+04, 4.43e+00,\n",
       "        4.51e+01, 4.07e+02, 4.95e+00, 1.18e+03, 2.68e+01, 3.09e+02,\n",
       "        6.81e+00, 1.96e+03, 8.63e+01, 3.43e+01, 4.20e+02, 6.21e+02,\n",
       "        4.29e+02, 4.77e+02, 1.27e+03, 6.29e+02, 1.49e+02, 4.00e+01,\n",
       "        6.60e+02, 5.61e+01, 2.85e+01, 9.80e+03, 6.25e+02, 1.05e+03,\n",
       "        1.44e+04, 5.92e+02, 7.42e+02, 6.58e+02, 7.12e+02, 1.51e+02,\n",
       "        9.43e+02, 1.48e+02, 2.44e+01, 4.57e+02, 2.46e+04, 4.96e+02,\n",
       "        1.29e+02, 5.79e+02, 2.06e+02, 1.92e+01, 3.60e+01, 1.05e+02,\n",
       "        3.35e+03, 8.56e+02, 2.62e+02, 7.79e+02, 9.96e+00, 5.07e+01,\n",
       "        1.43e+02, 2.29e+01, 1.11e+02, 2.47e+02, 6.22e+00, 3.99e+02,\n",
       "        4.21e+02, 2.62e+02, 4.69e+03, 2.39e+02, 2.82e+02, 3.14e+01,\n",
       "        3.12e+00, 2.79e+02, 1.08e+02, 1.83e+03, 3.82e+02, 4.36e+03,\n",
       "        2.66e+03, 3.87e+03, 1.78e+02, 1.83e+04, 1.07e+03, 2.26e+01,\n",
       "        1.25e+04, 1.87e+03, 3.77e+00, 8.02e+00, 9.06e+02, 1.92e+04,\n",
       "        1.50e+03, 1.65e+03]))"
      ]
     },
     "execution_count": 83,
     "metadata": {},
     "output_type": "execute_result"
    },
    {
     "data": {
      "image/png": "[encoded data removed]",
      "text/plain": [
       "<Figure size 432x288 with 1 Axes>"
      ]
     },
     "metadata": {
      "needs_background": "light"
     },
     "output_type": "display_data"
    }
   ],
   "source": [
    "# Code to import your dataset and create visualizations here\n",
    "\n",
    "filename = 'data/murder_total_deaths.csv'\n",
    "data = Data(filename)\n",
    "an = Analysis(data)\n",
    "\n",
    "h = data.hed()\n",
    "d = []\n",
    "print(data.hed())\n",
    "print(\"min\")\n",
    "print(an.min(h))\n",
    "print(\"max\")\n",
    "print(an.max(h))\n",
    "print(\"variance\")\n",
    "print(an.var(h))\n",
    "an.scatter('2005','2015','Deaths 2005 vs 2015')"
   ]
  },
  {
   "cell_type": "markdown",
   "metadata": {},
   "source": [
    "**Explain your findings here:**"
   ]
  },
  {
   "cell_type": "markdown",
   "metadata": {},
   "source": [
    "## Extensions\n",
    "\n",
    "To receive credit for any extension, you must:\n",
    "- Not modify / prevent any code from the core project from working (e.g. make a copy before changing). In other words, **the notebook test code should still work!**\n",
    "- **You must describe what you did and what you found in detail**. This includes a summary of parameter values used in your simulations.\n",
    "- Include (*labeled!*) plots and/or numbers to present your results.\n",
    "- Write up your extensions below or in a separate notebook.\n",
    "\n",
    "**Rule of thumb: one deep, thorough extension is worth more than several quick, shallow extensions!**\n",
    "\n",
    "**Reminder:** Give credit to all sources, including anyone that you consulted."
   ]
  },
  {
   "cell_type": "markdown",
   "metadata": {},
   "source": [
    "### 1) More visualizations\n",
    "\n",
    "Research and create more visualizations of data. If we haven't talked about it in class, all the better! This could be in the matplotlib API or something you build yourself (probably a better extension)."
   ]
  },
  {
   "cell_type": "markdown",
   "metadata": {},
   "source": [
    "### 2) More summary statistics\n",
    "\n",
    "Research, implement, and apply additional ways to quantitatively summarize a dataset. Compare these other techniques with those that you implemented in this project."
   ]
  },
  {
   "cell_type": "markdown",
   "metadata": {},
   "source": [
    "### 3) More datasets\n",
    "\n",
    "Analyze and visualize additional datasets. Document and report on insights/hypothesized relationships that you may have discovered."
   ]
  },
  {
   "cell_type": "markdown",
   "metadata": {},
   "source": [
    "### 4) Anscombe's Quartet\n",
    "\n",
    "Despite the visual dissimilarity of the data samples in each group of points, the groups of data have many identical (or nearly identical) summary statistics! Use you analysis code to verify this. Explain what it means / why it happens. Research additional statistics that are identical in the quartet, then implement and verify their similarity.  "
   ]
  },
  {
   "cell_type": "markdown",
   "metadata": {},
   "source": [
    "### 5) Additional data types\n",
    "\n",
    "You wrote `Data` to only store numeric data types. Extend your `Data` class to corectly parse and represent dates, strings, enums, and other types of data.\n",
    "\n",
    "NOTE: You will definitely want to make a copy of your `Data` class before attempting this!"
   ]
  },
  {
   "cell_type": "code",
   "execution_count": null,
   "metadata": {},
   "outputs": [],
   "source": []
  }
 ],
 "metadata": {
  "kernelspec": {
   "display_name": "Python 3",
   "language": "python",
   "name": "python3"
  },
  "language_info": {
   "codemirror_mode": {
    "name": "ipython",
    "version": 3
   },
   "file_extension": ".py",
   "mimetype": "text/x-python",
   "name": "python",
   "nbconvert_exporter": "python",
   "pygments_lexer": "ipython3",
   "version": "3.8.5"
  }
 },
 "nbformat": 4,
 "nbformat_minor": 2
}
